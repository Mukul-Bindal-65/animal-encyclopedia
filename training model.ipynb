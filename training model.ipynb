{
 "cells": [
  {
   "cell_type": "markdown",
   "metadata": {},
   "source": [
    "Git commands to push the code"
   ]
  },
  {
   "cell_type": "code",
   "execution_count": null,
   "metadata": {},
   "outputs": [],
   "source": [
    "'''\n",
    "Git commands to add code to github\n",
    "\n",
    "\n",
    "git init\n",
    "git add .\n",
    "git remote add origin https://github.com/mukul-bindal-65/animal-encyclopedia.git\n",
    "git branch -M prashant\n",
    "git commit -m \"first commit\"\n",
    "git push -u origin prashant \n",
    "\n",
    "Git commands to get code from github\n",
    "'''"
   ]
  },
  {
   "cell_type": "markdown",
   "metadata": {},
   "source": [
    "Imports"
   ]
  },
  {
   "cell_type": "code",
   "execution_count": 22,
   "metadata": {},
   "outputs": [],
   "source": [
    "import os\n",
    "import tensorflow\n",
    "from bing_image_downloader import downloader"
   ]
  },
  {
   "cell_type": "markdown",
   "metadata": {},
   "source": [
    "Animal List"
   ]
  },
  {
   "cell_type": "code",
   "execution_count": 14,
   "metadata": {},
   "outputs": [],
   "source": [
    "animal_names=[\n",
    "    \"muscovy duck\",\n",
    "    \"Black swan\",\n",
    "    \"rabit\",\n",
    "    \"nilgiri langur\",\n",
    "    \"lion tailed macaque\",\n",
    "    \"lemur\",\n",
    "    \"Chimpanzee\",\n",
    "    \"baboon\",\n",
    "    \"capped langur\",\n",
    "    \"white peafowl\",\n",
    "    \"barking deer\",\n",
    "    \"backbuck\",\n",
    "    \"sptted deer\",\n",
    "    \"antelope\",\n",
    "    \"tiger\",\n",
    "    \"lion\",\n",
    "    \"nilgai\",\n",
    "    \"sangai\",\n",
    "    \"camel\",\n",
    "    \"wild dog\",\n",
    "    \"bears\",\n",
    "    \"hyena\",\n",
    "    \"wolf\",\n",
    "    \"jackal\",\n",
    "    \"wild ass\",\n",
    "    \"jaguar\",\n",
    "    \"panthers\",\n",
    "    \"Pelicans\",\n",
    "    \"herons\",\n",
    "    \"tortoise\",\n",
    "    \"iguana\",\n",
    "    \"elephant\",\n",
    "    \"wild boar\",\n",
    "    \"hippopotamus\",\n",
    "    \"kangaroo\",\n",
    "    \"zebra\",\n",
    "    \"peacock\",\n",
    "    \"otter\",\n",
    "    \"sea lion\",\n",
    "    \"giraffe\"\n",
    "]"
   ]
  },
  {
   "cell_type": "markdown",
   "metadata": {},
   "source": [
    "Creating Dataset"
   ]
  },
  {
   "cell_type": "code",
   "execution_count": 15,
   "metadata": {},
   "outputs": [
    {
     "data": {
      "text/plain": [
       "40"
      ]
     },
     "execution_count": 15,
     "metadata": {},
     "output_type": "execute_result"
    }
   ],
   "source": [
    "len(animal_names)"
   ]
  },
  {
   "cell_type": "code",
   "execution_count": 16,
   "metadata": {},
   "outputs": [],
   "source": [
    "os.mkdir(\"dataset\")"
   ]
  },
  {
   "cell_type": "code",
   "execution_count": null,
   "metadata": {},
   "outputs": [],
   "source": [
    "for animal in animal_names:\n",
    "    downloader.download(animal, limit=2,  output_dir=f'dataset', \n",
    "    adult_filter_off=True, force_replace=False)"
   ]
  }
 ],
 "metadata": {
  "kernelspec": {
   "display_name": "Python 3.10.5 64-bit",
   "language": "python",
   "name": "python3"
  },
  "language_info": {
   "codemirror_mode": {
    "name": "ipython",
    "version": 3
   },
   "file_extension": ".py",
   "mimetype": "text/x-python",
   "name": "python",
   "nbconvert_exporter": "python",
   "pygments_lexer": "ipython3",
   "version": "3.10.5"
  },
  "orig_nbformat": 4,
  "vscode": {
   "interpreter": {
    "hash": "a28facaa2137c7ad1812eedb20cfbad780c7b3525ddbc35d2d0566af99c2de90"
   }
  }
 },
 "nbformat": 4,
 "nbformat_minor": 2
}
